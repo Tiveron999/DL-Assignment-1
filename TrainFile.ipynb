{
 "cells": [
  {
   "cell_type": "code",
   "execution_count": 17,
   "id": "51270f19-53bc-47dc-9090-0a6097501231",
   "metadata": {
    "scrolled": true
   },
   "outputs": [],
   "source": [
    "from scipy.io import loadmat\n",
    "import json\n",
    "import numpy\n",
    "from sklearn.model_selection import train_test_split\n",
    "annots = loadmat('Xtrain.mat')"
   ]
  },
  {
   "cell_type": "code",
   "execution_count": 18,
   "id": "d9606668-0844-4f5c-9ff2-c2ca6b13b636",
   "metadata": {},
   "outputs": [],
   "source": [
    "traindata=annots['Xtrain']\n",
    "traindata=numpy.concatenate(traindata, axis=0 )\n",
    "X_train, X_test= train_test_split(traindata, \n",
    "                                   random_state=104,  \n",
    "                                   test_size=0.20,  \n",
    "                                   shuffle=True)"
   ]
  },
  {
   "cell_type": "code",
   "execution_count": 19,
   "id": "42476464-76f8-4e7b-bcae-91fa5ae621f3",
   "metadata": {},
   "outputs": [
    {
     "name": "stdout",
     "output_type": "stream",
     "text": [
      "800\n"
     ]
    }
   ],
   "source": [
    "print(len(X_train))"
   ]
  },
  {
   "cell_type": "code",
   "execution_count": null,
   "id": "ec2bf93c-f181-41e3-b432-3dbce807e1cb",
   "metadata": {},
   "outputs": [],
   "source": []
  }
 ],
 "metadata": {
  "kernelspec": {
   "display_name": "venv",
   "language": "python",
   "name": "python3"
  },
  "language_info": {
   "codemirror_mode": {
    "name": "ipython",
    "version": 3
   },
   "file_extension": ".py",
   "mimetype": "text/x-python",
   "name": "python",
   "nbconvert_exporter": "python",
   "pygments_lexer": "ipython3",
   "version": "3.12.3"
  }
 },
 "nbformat": 4,
 "nbformat_minor": 5
}
